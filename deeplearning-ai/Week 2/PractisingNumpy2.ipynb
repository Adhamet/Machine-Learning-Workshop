{
 "cells": [
  {
   "attachments": {},
   "cell_type": "markdown",
   "metadata": {},
   "source": [
    "First we import numpy"
   ]
  },
  {
   "cell_type": "code",
   "execution_count": 2,
   "metadata": {},
   "outputs": [],
   "source": [
    "import numpy as np"
   ]
  },
  {
   "attachments": {},
   "cell_type": "markdown",
   "metadata": {},
   "source": [
    "### Array Creation </br>\n",
    "---\n",
    "- ``np.array()``<br>\n",
    "- ``np.zeros()``<br>\n",
    "- ``np.ones()``<br>\n",
    "- ``np.empty()``<br>\n",
    "- ``np.arange()``<br>\n",
    "- ``np.linspace()``<br>\n",
    "- ``dtype``\n",
    "---"
   ]
  },
  {
   "cell_type": "code",
   "execution_count": null,
   "metadata": {},
   "outputs": [
    {
     "name": "stdout",
     "output_type": "stream",
     "text": [
      "a = [1 2 3]\n",
      "b = [[0 0 0 0 0 0 0]\n",
      " [0 0 0 0 0 0 0]\n",
      " [0 0 0 0 0 0 0]]\n",
      "c = [[1. 1. 1. 1.]\n",
      " [1. 1. 1. 1.]]\n",
      "d = ['' '' '']\n",
      "e = [0 1 2 3 4]\n",
      "f = [ 3.  4.  5.  6.  7.  8.  9. 10. 11.]\n"
     ]
    }
   ],
   "source": [
    "a = np.array([1,2,3])\n",
    "b = np.zeros([3,7], dtype=int)\n",
    "c = np.ones([2,4], dtype=float)\n",
    "d = np.empty(3, dtype=str)\n",
    "e = np.arange(5) # Creates an array with a range of elements\n",
    "f = np.linspace(3, 11, num=9) # Creates an array in range (3,11) with a distribution width of 9\n",
    "print(f\"a = {a}\\nb = {b}\\nc = {c}\\nd = {d}\\ne = {e}\\nf = {f}\")"
   ]
  },
  {
   "attachments": {},
   "cell_type": "markdown",
   "metadata": {},
   "source": [
    "### Adding, Removing and sorting elements\n",
    "---\n",
    "- <span style=\"color:brown\">argsort</span>, which is an indirect sort along a specified axis,<br>\n",
    "- <span style=\"color:brown\">lexsort</span>, which is an indirect stable sort on multiple keys,<br>\n",
    "- <span style=\"color:brown\">searchsorted</span>, which will find elements in a sorted array, and<br>\n",
    "- <span style=\"color:brown\">partition</span>, which is a partial sort.\n",
    "---"
   ]
  },
  {
   "cell_type": "code",
   "execution_count": null,
   "metadata": {},
   "outputs": [
    {
     "name": "stdout",
     "output_type": "stream",
     "text": [
      "Before sort: [2 1 3 9 4 5 7]\n",
      "After sort: [1 2 3 4 5 7 9]\n",
      "(a) After concatenation: [ 1  2  3  4  5  7  9 13 10 15 16 17 20 11 19]\n",
      "(c) After concatenation: [[1 2]\n",
      " [3 4]\n",
      " [5 6]]\n"
     ]
    }
   ],
   "source": [
    "a = np.array([2,1,3,9,4,5,7])\n",
    "print(f\"Before sort: {a}\")\n",
    "a = np.sort(a)\n",
    "print(f\"After sort: {a}\")\n",
    "b = np.array([13,10,15,16,17,20,11,19])\n",
    "a = np.concatenate((a,b))\n",
    "print(f\"(a) After concatenation: {a}\")\n",
    "c = np.array([[1,2], [3,4]])\n",
    "d = np.array([[5,6]])\n",
    "c = np.concatenate((c,d), axis=0)\n",
    "print(f\"(c) After concatenation: {c}\")"
   ]
  },
  {
   "attachments": {},
   "cell_type": "markdown",
   "metadata": {},
   "source": [
    "### Array's Shape & Size\n",
    "+ ndarray.ndim - will tell you the number of axes, or dimensions of the array\n",
    "+ ndarray.size - will tell you the total number of elements in the array\n",
    "+ ndarray.shape - will display a tuple of integers that indicate the number\n",
    "                    of elements stored along each dimension of the array\n",
    "+ ndarray.reshape"
   ]
  },
  {
   "cell_type": "code",
   "execution_count": 13,
   "metadata": {},
   "outputs": [
    {
     "name": "stdout",
     "output_type": "stream",
     "text": [
      "a = [[1 2]\n",
      " [3 4]\n",
      " [5 6]]\n"
     ]
    },
    {
     "data": {
      "text/plain": [
       "array([[1, 5, 4],\n",
       "       [3, 2, 6]])"
      ]
     },
     "execution_count": 13,
     "metadata": {},
     "output_type": "execute_result"
    }
   ],
   "source": [
    "a = np.array([1,2,3,4,5,6])\n",
    "a = a.reshape(3,2)\n",
    "print(f\"a = {a}\")\n",
    "np.reshape(a, newshape=(2,3), order='F')\n",
    "# C means to read/write the elements using C-like index order\n",
    "# F means to read/write the elements using Fortran-like index order\n",
    "# A means to read/write the elements in Fortran-like index order if a is Fortran contiguous in memory\n",
    "# Learn more about them here: https://numpy.org/doc/1.25/dev/internals.html#numpy-internals"
   ]
  },
  {
   "attachments": {},
   "cell_type": "markdown",
   "metadata": {},
   "source": [
    "### How to add a new-axis to an array?\n",
    "\n",
    "* np.newaxis - increases dimensions of array by one.\n",
    "* np.expand_dims - inserts a new axis at a specific position."
   ]
  },
  {
   "cell_type": "code",
   "execution_count": null,
   "metadata": {},
   "outputs": [],
   "source": []
  }
 ],
 "metadata": {
  "kernelspec": {
   "display_name": "Python 3",
   "language": "python",
   "name": "python3"
  },
  "language_info": {
   "codemirror_mode": {
    "name": "ipython",
    "version": 3
   },
   "file_extension": ".py",
   "mimetype": "text/x-python",
   "name": "python",
   "nbconvert_exporter": "python",
   "pygments_lexer": "ipython3",
   "version": "3.11.3+"
  },
  "orig_nbformat": 4
 },
 "nbformat": 4,
 "nbformat_minor": 2
}
